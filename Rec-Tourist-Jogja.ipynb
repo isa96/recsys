{
  "nbformat": 4,
  "nbformat_minor": 0,
  "metadata": {
    "colab": {
      "name": "RecSys Tourist on Jogja.ipynb",
      "provenance": [],
      "collapsed_sections": [],
      "authorship_tag": "ABX9TyMbUHvRk1Aj/oR64mwDK1e1",
      "include_colab_link": true
    },
    "kernelspec": {
      "name": "python3",
      "display_name": "Python 3"
    },
    "language_info": {
      "name": "python"
    }
  },
  "cells": [
    {
      "cell_type": "markdown",
      "metadata": {
        "id": "view-in-github",
        "colab_type": "text"
      },
      "source": [
        "<a href=\"https://colab.research.google.com/github/brianadit24/RecSysTourist/blob/main/RecSys_Tourist_on_Jogja.ipynb\" target=\"_parent\"><img src=\"https://colab.research.google.com/assets/colab-badge.svg\" alt=\"Open In Colab\"/></a>"
      ]
    },
    {
      "cell_type": "markdown",
      "metadata": {
        "id": "PLrtoF51-SoT"
      },
      "source": [
        "# Import Module"
      ]
    },
    {
      "cell_type": "code",
      "metadata": {
        "id": "_CXzwN59bqF5"
      },
      "source": [
        "import pandas as pd\n",
        "import numpy as np\n",
        "import tensorflow as tf\n",
        "from sklearn.preprocessing import MinMaxScaler"
      ],
      "execution_count": null,
      "outputs": []
    },
    {
      "cell_type": "code",
      "metadata": {
        "id": "Odhoay9acXDH"
      },
      "source": [
        "rating = pd.read_csv('ratings.csv')\n",
        "destination = pd.read_csv('dataset.csv')"
      ],
      "execution_count": null,
      "outputs": []
    },
    {
      "cell_type": "markdown",
      "metadata": {
        "id": "ee2O_xUYIp7q"
      },
      "source": [
        "# Dataset Info"
      ]
    },
    {
      "cell_type": "code",
      "metadata": {
        "colab": {
          "base_uri": "https://localhost:8080/",
          "height": 204
        },
        "id": "99l2O5bncgyt",
        "outputId": "fd902b9e-ff0d-4d35-9aa9-1a41a7c6ab55"
      },
      "source": [
        "rating.head()"
      ],
      "execution_count": null,
      "outputs": [
        {
          "output_type": "execute_result",
          "data": {
            "text/html": [
              "<div>\n",
              "<style scoped>\n",
              "    .dataframe tbody tr th:only-of-type {\n",
              "        vertical-align: middle;\n",
              "    }\n",
              "\n",
              "    .dataframe tbody tr th {\n",
              "        vertical-align: top;\n",
              "    }\n",
              "\n",
              "    .dataframe thead th {\n",
              "        text-align: right;\n",
              "    }\n",
              "</style>\n",
              "<table border=\"1\" class=\"dataframe\">\n",
              "  <thead>\n",
              "    <tr style=\"text-align: right;\">\n",
              "      <th></th>\n",
              "      <th>user_id</th>\n",
              "      <th>index</th>\n",
              "      <th>ratings</th>\n",
              "    </tr>\n",
              "  </thead>\n",
              "  <tbody>\n",
              "    <tr>\n",
              "      <th>0</th>\n",
              "      <td>1</td>\n",
              "      <td>31</td>\n",
              "      <td>1</td>\n",
              "    </tr>\n",
              "    <tr>\n",
              "      <th>1</th>\n",
              "      <td>1</td>\n",
              "      <td>29</td>\n",
              "      <td>5</td>\n",
              "    </tr>\n",
              "    <tr>\n",
              "      <th>2</th>\n",
              "      <td>1</td>\n",
              "      <td>91</td>\n",
              "      <td>4</td>\n",
              "    </tr>\n",
              "    <tr>\n",
              "      <th>3</th>\n",
              "      <td>1</td>\n",
              "      <td>3</td>\n",
              "      <td>4</td>\n",
              "    </tr>\n",
              "    <tr>\n",
              "      <th>4</th>\n",
              "      <td>1</td>\n",
              "      <td>37</td>\n",
              "      <td>1</td>\n",
              "    </tr>\n",
              "  </tbody>\n",
              "</table>\n",
              "</div>"
            ],
            "text/plain": [
              "   user_id  index  ratings\n",
              "0        1     31        1\n",
              "1        1     29        5\n",
              "2        1     91        4\n",
              "3        1      3        4\n",
              "4        1     37        1"
            ]
          },
          "metadata": {
            "tags": []
          },
          "execution_count": 44
        }
      ]
    },
    {
      "cell_type": "code",
      "metadata": {
        "colab": {
          "base_uri": "https://localhost:8080/",
          "height": 541
        },
        "id": "bhLAz_a0ciD0",
        "outputId": "7870dcae-b3e7-4fcf-c0a4-27b57aad4f68"
      },
      "source": [
        "destination.head()"
      ],
      "execution_count": null,
      "outputs": [
        {
          "output_type": "execute_result",
          "data": {
            "text/html": [
              "<div>\n",
              "<style scoped>\n",
              "    .dataframe tbody tr th:only-of-type {\n",
              "        vertical-align: middle;\n",
              "    }\n",
              "\n",
              "    .dataframe tbody tr th {\n",
              "        vertical-align: top;\n",
              "    }\n",
              "\n",
              "    .dataframe thead th {\n",
              "        text-align: right;\n",
              "    }\n",
              "</style>\n",
              "<table border=\"1\" class=\"dataframe\">\n",
              "  <thead>\n",
              "    <tr style=\"text-align: right;\">\n",
              "      <th></th>\n",
              "      <th>nama</th>\n",
              "      <th>vote_average</th>\n",
              "      <th>vote_count</th>\n",
              "      <th>type</th>\n",
              "      <th>htm_weekday</th>\n",
              "      <th>htm_weekend</th>\n",
              "      <th>latitude</th>\n",
              "      <th>longitude</th>\n",
              "      <th>description</th>\n",
              "    </tr>\n",
              "    <tr>\n",
              "      <th>index</th>\n",
              "      <th></th>\n",
              "      <th></th>\n",
              "      <th></th>\n",
              "      <th></th>\n",
              "      <th></th>\n",
              "      <th></th>\n",
              "      <th></th>\n",
              "      <th></th>\n",
              "      <th></th>\n",
              "    </tr>\n",
              "  </thead>\n",
              "  <tbody>\n",
              "    <tr>\n",
              "      <th>0</th>\n",
              "      <td>Candi Borobudur</td>\n",
              "      <td>4.7</td>\n",
              "      <td>81922</td>\n",
              "      <td>Budaya dan Sejarah</td>\n",
              "      <td>50000.0</td>\n",
              "      <td>50000.0</td>\n",
              "      <td>-7.607087</td>\n",
              "      <td>110.203623</td>\n",
              "      <td>Candi yang pernah masuk sebagai salah satu dar...</td>\n",
              "    </tr>\n",
              "    <tr>\n",
              "      <th>1</th>\n",
              "      <td>Candi Prambanan</td>\n",
              "      <td>4.7</td>\n",
              "      <td>71751</td>\n",
              "      <td>Budaya dan Sejarah</td>\n",
              "      <td>50000.0</td>\n",
              "      <td>50000.0</td>\n",
              "      <td>-7.751835</td>\n",
              "      <td>110.491532</td>\n",
              "      <td>Candi Prambanan adalah kompleks candi Hindu te...</td>\n",
              "    </tr>\n",
              "    <tr>\n",
              "      <th>2</th>\n",
              "      <td>Tebing Breksi</td>\n",
              "      <td>4.4</td>\n",
              "      <td>51431</td>\n",
              "      <td>Alam</td>\n",
              "      <td>10000.0</td>\n",
              "      <td>10000.0</td>\n",
              "      <td>-7.781477</td>\n",
              "      <td>110.504576</td>\n",
              "      <td>Tebing Breksi merupakan tempat wisata yang ber...</td>\n",
              "    </tr>\n",
              "    <tr>\n",
              "      <th>3</th>\n",
              "      <td>Gembira Loka Zoo</td>\n",
              "      <td>4.5</td>\n",
              "      <td>36337</td>\n",
              "      <td>Buatan</td>\n",
              "      <td>20000.0</td>\n",
              "      <td>25000.0</td>\n",
              "      <td>-7.806234</td>\n",
              "      <td>110.396798</td>\n",
              "      <td>Gambira Loka adalah kebun binatang yang berada...</td>\n",
              "    </tr>\n",
              "    <tr>\n",
              "      <th>4</th>\n",
              "      <td>The Palace of Yogyakarta (Keraton Yogyakarta)</td>\n",
              "      <td>4.6</td>\n",
              "      <td>30091</td>\n",
              "      <td>Budaya dan Sejarah</td>\n",
              "      <td>8000.0</td>\n",
              "      <td>8000.0</td>\n",
              "      <td>-7.805284</td>\n",
              "      <td>110.364203</td>\n",
              "      <td>Kompleks keraton merupakan museum yang menyimp...</td>\n",
              "    </tr>\n",
              "  </tbody>\n",
              "</table>\n",
              "</div>"
            ],
            "text/plain": [
              "                                                nama  ...                                        description\n",
              "index                                                 ...                                                   \n",
              "0                                    Candi Borobudur  ...  Candi yang pernah masuk sebagai salah satu dar...\n",
              "1                                    Candi Prambanan  ...  Candi Prambanan adalah kompleks candi Hindu te...\n",
              "2                                      Tebing Breksi  ...  Tebing Breksi merupakan tempat wisata yang ber...\n",
              "3                                   Gembira Loka Zoo  ...  Gambira Loka adalah kebun binatang yang berada...\n",
              "4      The Palace of Yogyakarta (Keraton Yogyakarta)  ...  Kompleks keraton merupakan museum yang menyimp...\n",
              "\n",
              "[5 rows x 9 columns]"
            ]
          },
          "metadata": {
            "tags": []
          },
          "execution_count": 31
        }
      ]
    },
    {
      "cell_type": "code",
      "metadata": {
        "id": "rphQaB9ucsvC",
        "colab": {
          "base_uri": "https://localhost:8080/"
        },
        "outputId": "1812d07c-1b8b-4a64-d573-b17688a01866"
      },
      "source": [
        "rating.info()"
      ],
      "execution_count": null,
      "outputs": [
        {
          "output_type": "stream",
          "text": [
            "<class 'pandas.core.frame.DataFrame'>\n",
            "RangeIndex: 15029 entries, 0 to 15028\n",
            "Data columns (total 3 columns):\n",
            " #   Column   Non-Null Count  Dtype\n",
            "---  ------   --------------  -----\n",
            " 0   user_id  15029 non-null  int64\n",
            " 1   index    15029 non-null  int64\n",
            " 2   ratings  15029 non-null  int64\n",
            "dtypes: int64(3)\n",
            "memory usage: 352.4 KB\n"
          ],
          "name": "stdout"
        }
      ]
    },
    {
      "cell_type": "code",
      "metadata": {
        "colab": {
          "base_uri": "https://localhost:8080/"
        },
        "id": "QxAbcFYJI0ZW",
        "outputId": "7c394bdf-4271-4bbb-adf1-4fd70160231b"
      },
      "source": [
        "destination.info()"
      ],
      "execution_count": null,
      "outputs": [
        {
          "output_type": "stream",
          "text": [
            "<class 'pandas.core.frame.DataFrame'>\n",
            "RangeIndex: 142 entries, 0 to 141\n",
            "Data columns (total 10 columns):\n",
            " #   Column        Non-Null Count  Dtype  \n",
            "---  ------        --------------  -----  \n",
            " 0   index         142 non-null    int64  \n",
            " 1   nama          142 non-null    object \n",
            " 2   vote_average  142 non-null    float64\n",
            " 3   vote_count    142 non-null    int64  \n",
            " 4   type          142 non-null    object \n",
            " 5   htm_weekday   128 non-null    float64\n",
            " 6   htm_weekend   125 non-null    float64\n",
            " 7   latitude      142 non-null    float64\n",
            " 8   longitude     142 non-null    float64\n",
            " 9   description   142 non-null    object \n",
            "dtypes: float64(5), int64(2), object(3)\n",
            "memory usage: 11.2+ KB\n"
          ],
          "name": "stdout"
        }
      ]
    },
    {
      "cell_type": "markdown",
      "metadata": {
        "id": "R-UzMBeHJzB0"
      },
      "source": [
        "# Content Base Filtering"
      ]
    },
    {
      "cell_type": "code",
      "metadata": {
        "colab": {
          "base_uri": "https://localhost:8080/"
        },
        "id": "Ei_Ekv-xR3gU",
        "outputId": "558a22ee-667a-448a-c98a-2992cc0b284c"
      },
      "source": [
        "import nltk\n",
        "nltk.download('punkt')"
      ],
      "execution_count": null,
      "outputs": [
        {
          "output_type": "stream",
          "text": [
            "[nltk_data] Downloading package punkt to /root/nltk_data...\n",
            "[nltk_data]   Unzipping tokenizers/punkt.zip.\n"
          ],
          "name": "stdout"
        },
        {
          "output_type": "execute_result",
          "data": {
            "text/plain": [
              "True"
            ]
          },
          "metadata": {
            "tags": []
          },
          "execution_count": 1
        }
      ]
    },
    {
      "cell_type": "code",
      "metadata": {
        "id": "U8-Fk-oFSzv5"
      },
      "source": [
        "import pandas as pd\n",
        "from sklearn.feature_extraction.text import CountVectorizer\n",
        "from nltk.tokenize import word_tokenize"
      ],
      "execution_count": null,
      "outputs": []
    },
    {
      "cell_type": "code",
      "metadata": {
        "colab": {
          "base_uri": "https://localhost:8080/",
          "height": 204
        },
        "id": "7_Wi-51rTIAh",
        "outputId": "977619d2-5494-4b24-9300-5200d94d7a7a"
      },
      "source": [
        "destination.head()"
      ],
      "execution_count": null,
      "outputs": [
        {
          "output_type": "execute_result",
          "data": {
            "text/html": [
              "<div>\n",
              "<style scoped>\n",
              "    .dataframe tbody tr th:only-of-type {\n",
              "        vertical-align: middle;\n",
              "    }\n",
              "\n",
              "    .dataframe tbody tr th {\n",
              "        vertical-align: top;\n",
              "    }\n",
              "\n",
              "    .dataframe thead th {\n",
              "        text-align: right;\n",
              "    }\n",
              "</style>\n",
              "<table border=\"1\" class=\"dataframe\">\n",
              "  <thead>\n",
              "    <tr style=\"text-align: right;\">\n",
              "      <th></th>\n",
              "      <th>index</th>\n",
              "      <th>nama</th>\n",
              "      <th>vote_average</th>\n",
              "      <th>vote_count</th>\n",
              "      <th>type</th>\n",
              "      <th>htm_weekday</th>\n",
              "      <th>htm_weekend</th>\n",
              "      <th>latitude</th>\n",
              "      <th>longitude</th>\n",
              "      <th>description</th>\n",
              "    </tr>\n",
              "  </thead>\n",
              "  <tbody>\n",
              "    <tr>\n",
              "      <th>0</th>\n",
              "      <td>0</td>\n",
              "      <td>Candi Borobudur</td>\n",
              "      <td>4.7</td>\n",
              "      <td>81922</td>\n",
              "      <td>Budaya dan Sejarah</td>\n",
              "      <td>50000.0</td>\n",
              "      <td>50000.0</td>\n",
              "      <td>-7.607087</td>\n",
              "      <td>110.203623</td>\n",
              "      <td>Candi yang pernah masuk sebagai salah satu dar...</td>\n",
              "    </tr>\n",
              "    <tr>\n",
              "      <th>1</th>\n",
              "      <td>1</td>\n",
              "      <td>Candi Prambanan</td>\n",
              "      <td>4.7</td>\n",
              "      <td>71751</td>\n",
              "      <td>Budaya dan Sejarah</td>\n",
              "      <td>50000.0</td>\n",
              "      <td>50000.0</td>\n",
              "      <td>-7.751835</td>\n",
              "      <td>110.491532</td>\n",
              "      <td>Candi Prambanan adalah kompleks candi Hindu te...</td>\n",
              "    </tr>\n",
              "    <tr>\n",
              "      <th>2</th>\n",
              "      <td>2</td>\n",
              "      <td>Tebing Breksi</td>\n",
              "      <td>4.4</td>\n",
              "      <td>51431</td>\n",
              "      <td>Alam</td>\n",
              "      <td>10000.0</td>\n",
              "      <td>10000.0</td>\n",
              "      <td>-7.781477</td>\n",
              "      <td>110.504576</td>\n",
              "      <td>Tebing Breksi merupakan tempat wisata yang ber...</td>\n",
              "    </tr>\n",
              "    <tr>\n",
              "      <th>3</th>\n",
              "      <td>3</td>\n",
              "      <td>Gembira Loka Zoo</td>\n",
              "      <td>4.5</td>\n",
              "      <td>36337</td>\n",
              "      <td>Buatan</td>\n",
              "      <td>20000.0</td>\n",
              "      <td>25000.0</td>\n",
              "      <td>-7.806234</td>\n",
              "      <td>110.396798</td>\n",
              "      <td>Gambira Loka adalah kebun binatang yang berada...</td>\n",
              "    </tr>\n",
              "    <tr>\n",
              "      <th>4</th>\n",
              "      <td>4</td>\n",
              "      <td>The Palace of Yogyakarta (Keraton Yogyakarta)</td>\n",
              "      <td>4.6</td>\n",
              "      <td>30091</td>\n",
              "      <td>Budaya dan Sejarah</td>\n",
              "      <td>8000.0</td>\n",
              "      <td>8000.0</td>\n",
              "      <td>-7.805284</td>\n",
              "      <td>110.364203</td>\n",
              "      <td>Kompleks keraton merupakan museum yang menyimp...</td>\n",
              "    </tr>\n",
              "  </tbody>\n",
              "</table>\n",
              "</div>"
            ],
            "text/plain": [
              "   index  ...                                        description\n",
              "0      0  ...  Candi yang pernah masuk sebagai salah satu dar...\n",
              "1      1  ...  Candi Prambanan adalah kompleks candi Hindu te...\n",
              "2      2  ...  Tebing Breksi merupakan tempat wisata yang ber...\n",
              "3      3  ...  Gambira Loka adalah kebun binatang yang berada...\n",
              "4      4  ...  Kompleks keraton merupakan museum yang menyimp...\n",
              "\n",
              "[5 rows x 10 columns]"
            ]
          },
          "metadata": {
            "tags": []
          },
          "execution_count": 5
        }
      ]
    },
    {
      "cell_type": "markdown",
      "metadata": {
        "id": "gR6krsuLU4hN"
      },
      "source": [
        "## Encode All Synopsis to Bank"
      ]
    },
    {
      "cell_type": "code",
      "metadata": {
        "id": "H9valtxaTQlk"
      },
      "source": [
        "bow = CountVectorizer(tokenizer=word_tokenize)\n",
        "bank = bow.fit_transform(destination.description)"
      ],
      "execution_count": null,
      "outputs": []
    },
    {
      "cell_type": "markdown",
      "metadata": {
        "id": "BXBZVTtlVEwN"
      },
      "source": [
        "## Step 1 : Encode what user watch"
      ]
    },
    {
      "cell_type": "code",
      "metadata": {
        "id": "_TFz9AajUtkU"
      },
      "source": [
        "idx = 0"
      ],
      "execution_count": null,
      "outputs": []
    },
    {
      "cell_type": "code",
      "metadata": {
        "colab": {
          "base_uri": "https://localhost:8080/",
          "height": 52
        },
        "id": "dw7oDdKXU_Ep",
        "outputId": "904588c7-b158-40e9-f454-d48ae8bf5fbd"
      },
      "source": [
        "content = destination.loc[idx, \"description\"]\n",
        "content"
      ],
      "execution_count": null,
      "outputs": [
        {
          "output_type": "execute_result",
          "data": {
            "application/vnd.google.colaboratory.intrinsic+json": {
              "type": "string"
            },
            "text/plain": [
              "'Candi yang pernah masuk sebagai salah satu dari Tujuh Keajaiban Dunia ini dihiasi oleh banyak relief di dinding candi. Relief yang ada di Candi Borobudur mencapai 2.672 dan panjangnya bisa mencapai 6 kilometer'"
            ]
          },
          "metadata": {
            "tags": []
          },
          "execution_count": 12
        }
      ]
    },
    {
      "cell_type": "code",
      "metadata": {
        "colab": {
          "base_uri": "https://localhost:8080/"
        },
        "id": "LzSJ13tyVLmj",
        "outputId": "68b4b218-5db3-41b5-b870-dc05c26b9cd1"
      },
      "source": [
        "code = bow.transform([content])\n",
        "code.toarray()"
      ],
      "execution_count": null,
      "outputs": [
        {
          "output_type": "execute_result",
          "data": {
            "text/plain": [
              "array([[0, 0, 0, ..., 0, 0, 0]])"
            ]
          },
          "metadata": {
            "tags": []
          },
          "execution_count": 14
        }
      ]
    },
    {
      "cell_type": "markdown",
      "metadata": {
        "id": "yubS9gk4Vbj6"
      },
      "source": [
        "## Step 2: Document Search"
      ]
    },
    {
      "cell_type": "code",
      "metadata": {
        "id": "jloWLeefViXZ"
      },
      "source": [
        "from sklearn.metrics.pairwise import cosine_distances"
      ],
      "execution_count": null,
      "outputs": []
    },
    {
      "cell_type": "code",
      "metadata": {
        "colab": {
          "base_uri": "https://localhost:8080/"
        },
        "id": "-rnC-LuNVrU8",
        "outputId": "5e32f6b2-05a5-48f5-9f17-09a31e7213e2"
      },
      "source": [
        "dist = cosine_distances(code, bank)\n",
        "dist"
      ],
      "execution_count": null,
      "outputs": [
        {
          "output_type": "execute_result",
          "data": {
            "text/plain": [
              "array([[0.        , 0.59035598, 0.67697086, 0.8502479 , 0.77549337,\n",
              "        0.791122  , 0.67688484, 0.70103726, 0.76614641, 0.82337603,\n",
              "        0.79868094, 0.75381702, 0.69591818, 0.79587585, 0.6555405 ,\n",
              "        0.88129087, 0.84508067, 0.75485483, 0.69481069, 0.6680236 ,\n",
              "        0.63216903, 0.82109339, 0.82735773, 0.75256417, 0.75338999,\n",
              "        0.72222222, 0.78240293, 0.77917258, 0.58528898, 0.72860835,\n",
              "        0.72499045, 0.75769416, 0.6095008 , 0.77411867, 0.79911847,\n",
              "        0.76381125, 0.75266716, 0.71909968, 0.76793022, 0.74599975,\n",
              "        0.74379495, 0.71464945, 0.78498168, 0.89174682, 0.74523767,\n",
              "        0.75168352, 0.75945129, 0.70066696, 0.80372678, 0.91091292,\n",
              "        0.70984066, 0.90871291, 0.68484238, 0.66735043, 0.72531936,\n",
              "        0.77569114, 0.78464724, 0.79542073, 0.66321234, 0.75485483,\n",
              "        0.50257512, 0.78959365, 0.91116637, 0.71301799, 0.72808762,\n",
              "        0.77848059, 0.7369316 , 0.80949981, 0.7658419 , 1.        ,\n",
              "        0.78080135, 0.69734004, 0.84409761, 0.74135324, 0.71068122,\n",
              "        0.81835059, 0.54187715, 0.77830091, 0.67525007, 0.6897517 ,\n",
              "        0.71213995, 0.7233007 , 0.69475445, 0.89255831, 0.71424971,\n",
              "        0.67122031, 0.81360394, 0.78769806, 0.78240293, 0.8213683 ,\n",
              "        0.82223572, 0.74418006, 0.85698061, 0.84971665, 0.71296893,\n",
              "        0.7373244 , 0.73729653, 0.7608277 , 0.72689629, 0.68225555,\n",
              "        0.51492875, 0.87747549, 0.80988272, 0.76750472, 0.76549118,\n",
              "        0.67564566, 0.76185516, 0.80185152, 0.42522459, 0.69552862,\n",
              "        0.82592234, 0.78080135, 0.86474955, 0.66233112, 0.63421824,\n",
              "        0.723353  , 0.78180349, 0.77115357, 0.7695588 , 0.47677789,\n",
              "        0.74094818, 0.73586473, 0.74737663, 0.79587585, 0.70077813,\n",
              "        0.74135324, 0.89300988, 0.87725244, 0.90098525, 0.74555916,\n",
              "        0.75168352, 0.8425148 , 0.8236636 , 0.78435815, 0.80988272,\n",
              "        0.6798028 , 0.79176832, 1.        , 0.67780833, 0.82496499,\n",
              "        0.65389067, 0.80542759]])"
            ]
          },
          "metadata": {
            "tags": []
          },
          "execution_count": 16
        }
      ]
    },
    {
      "cell_type": "code",
      "metadata": {
        "colab": {
          "base_uri": "https://localhost:8080/"
        },
        "id": "0BG_HYZYVvI9",
        "outputId": "26f2dbcd-94a8-4800-92ac-d17f7bbd7bc7"
      },
      "source": [
        "rect_idx = dist.argsort()\n",
        "rect_idx"
      ],
      "execution_count": null,
      "outputs": [
        {
          "output_type": "execute_result",
          "data": {
            "text/plain": [
              "array([[  0, 108, 119,  60, 100,  76,  28,   1,  32,  20, 114, 140,  14,\n",
              "        113,  58,  53,  19,  85,  78, 105,   6,   2, 138, 135,  99,  52,\n",
              "         79,  82,  18, 109,  12,  71,  47, 124,   7,  50,  74,  80,  94,\n",
              "         63,  84,  41,  37,  25,  81, 115,  30,  54,  98,  64,  29, 121,\n",
              "         66,  96,  95, 120,  73, 125,  40,  91,  44, 129,  39, 122,  45,\n",
              "        130,  23,  36,  24,  11,  59,  17,  31,  46,  97, 106,  35, 104,\n",
              "         68,   8, 103,  38, 118, 117,  33,   4,  55,  77,  65,  27, 111,\n",
              "         70, 116,  88,  26, 133,  56,  42,  87,  61,   5, 136,  57,  13,\n",
              "        123,  10,  34, 107,  48, 141,  67, 134, 102,  86,  75,  21,  89,\n",
              "         90,   9, 132, 139, 110,  22, 131,  72,  16,  93,   3,  92, 112,\n",
              "        127, 101,  15,  43,  83, 126, 128,  51,  49,  62,  69, 137]])"
            ]
          },
          "metadata": {
            "tags": []
          },
          "execution_count": 37
        }
      ]
    },
    {
      "cell_type": "markdown",
      "metadata": {
        "id": "BtRnbOUlV1XO"
      },
      "source": [
        "## Step 3: Recommend"
      ]
    },
    {
      "cell_type": "code",
      "metadata": {
        "colab": {
          "base_uri": "https://localhost:8080/",
          "height": 328
        },
        "id": "u4Jv21NAV6r-",
        "outputId": "f05faed3-a992-4e4d-a3dc-891cc9bb6177"
      },
      "source": [
        "destination.loc[rect_idx]"
      ],
      "execution_count": null,
      "outputs": [
        {
          "output_type": "execute_result",
          "data": {
            "text/html": [
              "<div>\n",
              "<style scoped>\n",
              "    .dataframe tbody tr th:only-of-type {\n",
              "        vertical-align: middle;\n",
              "    }\n",
              "\n",
              "    .dataframe tbody tr th {\n",
              "        vertical-align: top;\n",
              "    }\n",
              "\n",
              "    .dataframe thead th {\n",
              "        text-align: right;\n",
              "    }\n",
              "</style>\n",
              "<table border=\"1\" class=\"dataframe\">\n",
              "  <thead>\n",
              "    <tr style=\"text-align: right;\">\n",
              "      <th></th>\n",
              "      <th>index</th>\n",
              "      <th>nama</th>\n",
              "      <th>vote_average</th>\n",
              "      <th>vote_count</th>\n",
              "      <th>type</th>\n",
              "      <th>htm_weekday</th>\n",
              "      <th>htm_weekend</th>\n",
              "      <th>latitude</th>\n",
              "      <th>longitude</th>\n",
              "      <th>description</th>\n",
              "    </tr>\n",
              "  </thead>\n",
              "  <tbody>\n",
              "    <tr>\n",
              "      <th>108</th>\n",
              "      <td>108</td>\n",
              "      <td>Candi Banyunibo</td>\n",
              "      <td>4.5</td>\n",
              "      <td>1151</td>\n",
              "      <td>Budaya dan Sejarah</td>\n",
              "      <td>5000.0</td>\n",
              "      <td>5000.0</td>\n",
              "      <td>-7.777901</td>\n",
              "      <td>110.494073</td>\n",
              "      <td>Candi Banyunibo adalah candi Buddha yang berad...</td>\n",
              "    </tr>\n",
              "    <tr>\n",
              "      <th>119</th>\n",
              "      <td>119</td>\n",
              "      <td>Candi Sari</td>\n",
              "      <td>4.5</td>\n",
              "      <td>938</td>\n",
              "      <td>Budaya dan Sejarah</td>\n",
              "      <td>2000.0</td>\n",
              "      <td>2000.0</td>\n",
              "      <td>-7.761558</td>\n",
              "      <td>110.474275</td>\n",
              "      <td>Candi Sari juga disebut Candi Bendah adalah ca...</td>\n",
              "    </tr>\n",
              "    <tr>\n",
              "      <th>60</th>\n",
              "      <td>60</td>\n",
              "      <td>Candi Sewu</td>\n",
              "      <td>4.6</td>\n",
              "      <td>2968</td>\n",
              "      <td>Budaya dan Sejarah</td>\n",
              "      <td>10000.0</td>\n",
              "      <td>10000.0</td>\n",
              "      <td>-7.743922</td>\n",
              "      <td>110.492909</td>\n",
              "      <td>Candi Sewu adalah candi Buddha yang dibangun p...</td>\n",
              "    </tr>\n",
              "    <tr>\n",
              "      <th>100</th>\n",
              "      <td>100</td>\n",
              "      <td>Candi Kalasan</td>\n",
              "      <td>4.5</td>\n",
              "      <td>1291</td>\n",
              "      <td>Budaya dan Sejarah</td>\n",
              "      <td>5000.0</td>\n",
              "      <td>5000.0</td>\n",
              "      <td>-7.767284</td>\n",
              "      <td>110.472350</td>\n",
              "      <td>Candi Kalasan adalah candi yang dipersembahkan...</td>\n",
              "    </tr>\n",
              "    <tr>\n",
              "      <th>76</th>\n",
              "      <td>76</td>\n",
              "      <td>Candi Sojiwan</td>\n",
              "      <td>4.5</td>\n",
              "      <td>2159</td>\n",
              "      <td>Budaya dan Sejarah</td>\n",
              "      <td>5000.0</td>\n",
              "      <td>5000.0</td>\n",
              "      <td>-7.760395</td>\n",
              "      <td>110.496201</td>\n",
              "      <td>Candi Sojiwan memiliki keunikan. Keunikan ini ...</td>\n",
              "    </tr>\n",
              "    <tr>\n",
              "      <th>28</th>\n",
              "      <td>28</td>\n",
              "      <td>Candi Plaosan</td>\n",
              "      <td>4.6</td>\n",
              "      <td>7855</td>\n",
              "      <td>Budaya dan Sejarah</td>\n",
              "      <td>3000.0</td>\n",
              "      <td>3000.0</td>\n",
              "      <td>-7.740781</td>\n",
              "      <td>110.504677</td>\n",
              "      <td>Candi Plaosan terletak di Desa Bugisan, Kecama...</td>\n",
              "    </tr>\n",
              "    <tr>\n",
              "      <th>1</th>\n",
              "      <td>1</td>\n",
              "      <td>Candi Prambanan</td>\n",
              "      <td>4.7</td>\n",
              "      <td>71751</td>\n",
              "      <td>Budaya dan Sejarah</td>\n",
              "      <td>50000.0</td>\n",
              "      <td>50000.0</td>\n",
              "      <td>-7.751835</td>\n",
              "      <td>110.491532</td>\n",
              "      <td>Candi Prambanan adalah kompleks candi Hindu te...</td>\n",
              "    </tr>\n",
              "    <tr>\n",
              "      <th>32</th>\n",
              "      <td>32</td>\n",
              "      <td>Candi Sambisari</td>\n",
              "      <td>4.6</td>\n",
              "      <td>6238</td>\n",
              "      <td>Budaya dan Sejarah</td>\n",
              "      <td>5000.0</td>\n",
              "      <td>5000.0</td>\n",
              "      <td>-7.762491</td>\n",
              "      <td>110.447037</td>\n",
              "      <td>Candi Sambisari adalah Candi Hindu yang berada...</td>\n",
              "    </tr>\n",
              "    <tr>\n",
              "      <th>20</th>\n",
              "      <td>20</td>\n",
              "      <td>Depok Beach</td>\n",
              "      <td>4.3</td>\n",
              "      <td>10820</td>\n",
              "      <td>Pantai</td>\n",
              "      <td>10000.0</td>\n",
              "      <td>10000.0</td>\n",
              "      <td>-8.013709</td>\n",
              "      <td>110.291478</td>\n",
              "      <td>Pantai Depok yang letaknya hanya 1,5 km dari P...</td>\n",
              "    </tr>\n",
              "  </tbody>\n",
              "</table>\n",
              "</div>"
            ],
            "text/plain": [
              "     index  ...                                        description\n",
              "108    108  ...  Candi Banyunibo adalah candi Buddha yang berad...\n",
              "119    119  ...  Candi Sari juga disebut Candi Bendah adalah ca...\n",
              "60      60  ...  Candi Sewu adalah candi Buddha yang dibangun p...\n",
              "100    100  ...  Candi Kalasan adalah candi yang dipersembahkan...\n",
              "76      76  ...  Candi Sojiwan memiliki keunikan. Keunikan ini ...\n",
              "28      28  ...  Candi Plaosan terletak di Desa Bugisan, Kecama...\n",
              "1        1  ...  Candi Prambanan adalah kompleks candi Hindu te...\n",
              "32      32  ...  Candi Sambisari adalah Candi Hindu yang berada...\n",
              "20      20  ...  Pantai Depok yang letaknya hanya 1,5 km dari P...\n",
              "\n",
              "[9 rows x 10 columns]"
            ]
          },
          "metadata": {
            "tags": []
          },
          "execution_count": 18
        }
      ]
    },
    {
      "cell_type": "markdown",
      "metadata": {
        "id": "6vJJ9U3xV9ps"
      },
      "source": [
        "## ML Engineering: Content Base Filtering"
      ]
    },
    {
      "cell_type": "code",
      "metadata": {
        "id": "VGtSXpJHXQRJ",
        "colab": {
          "base_uri": "https://localhost:8080/"
        },
        "outputId": "17298e78-e32d-47e2-f8b2-1a2f4599eb2b"
      },
      "source": [
        "import nltk\n",
        "nltk.download('punkt')\n",
        "\n",
        "import pandas as pd\n",
        "from nltk.tokenize import word_tokenize\n",
        "from sklearn.feature_extraction.text import CountVectorizer\n",
        "from sklearn.metrics.pairwise import cosine_distances\n",
        "\n",
        "class ContentRecSys:\n",
        "    def __init__(self, data, content_col, index_col=None):\n",
        "        self.df = pd.read_csv(data, index_col=index_col)\n",
        "        self.content_col = content_col\n",
        "        self.encoder = None\n",
        "        self.bank = None\n",
        "\n",
        "    def fit(self):\n",
        "        self.encoder = CountVectorizer(tokenizer=word_tokenize)\n",
        "        self.bank = self.encoder.fit_transform(self.df[self.content_col])\n",
        "\n",
        "    def recommend(self, idx, topk=10):\n",
        "        content = self.df.loc[idx, self.content_col]\n",
        "        code = self.encoder.transform([content])\n",
        "        dist = cosine_distances(code, self.bank)\n",
        "        rect_idx = dist.argsort()[0, 1:(topk+1)]\n",
        "        return self.df.loc[rect_idx]"
      ],
      "execution_count": 9,
      "outputs": [
        {
          "output_type": "stream",
          "text": [
            "[nltk_data] Downloading package punkt to /root/nltk_data...\n",
            "[nltk_data]   Package punkt is already up-to-date!\n"
          ],
          "name": "stdout"
        }
      ]
    },
    {
      "cell_type": "markdown",
      "metadata": {
        "id": "u-IBMECIZbQv"
      },
      "source": [
        "## Testing Content Base Filtering"
      ]
    },
    {
      "cell_type": "code",
      "metadata": {
        "id": "wS4P2HZyZggX"
      },
      "source": [
        "conrecsys = ContentRecSys(data=\"dataset.csv\", content_col=\"description\", index_col='index')\n",
        "conrecsys.fit()"
      ],
      "execution_count": 10,
      "outputs": []
    },
    {
      "cell_type": "code",
      "metadata": {
        "colab": {
          "base_uri": "https://localhost:8080/",
          "height": 390
        },
        "id": "VIBTMhGYZ2P7",
        "outputId": "311f6932-cae1-47fa-c475-afda27f49f98"
      },
      "source": [
        "conrecsys.recommend(20) # Depok Beach"
      ],
      "execution_count": 11,
      "outputs": [
        {
          "output_type": "execute_result",
          "data": {
            "text/html": [
              "<div>\n",
              "<style scoped>\n",
              "    .dataframe tbody tr th:only-of-type {\n",
              "        vertical-align: middle;\n",
              "    }\n",
              "\n",
              "    .dataframe tbody tr th {\n",
              "        vertical-align: top;\n",
              "    }\n",
              "\n",
              "    .dataframe thead th {\n",
              "        text-align: right;\n",
              "    }\n",
              "</style>\n",
              "<table border=\"1\" class=\"dataframe\">\n",
              "  <thead>\n",
              "    <tr style=\"text-align: right;\">\n",
              "      <th></th>\n",
              "      <th>nama</th>\n",
              "      <th>vote_average</th>\n",
              "      <th>vote_count</th>\n",
              "      <th>type</th>\n",
              "      <th>htm_weekday</th>\n",
              "      <th>htm_weekend</th>\n",
              "      <th>latitude</th>\n",
              "      <th>longitude</th>\n",
              "      <th>description</th>\n",
              "    </tr>\n",
              "    <tr>\n",
              "      <th>index</th>\n",
              "      <th></th>\n",
              "      <th></th>\n",
              "      <th></th>\n",
              "      <th></th>\n",
              "      <th></th>\n",
              "      <th></th>\n",
              "      <th></th>\n",
              "      <th></th>\n",
              "      <th></th>\n",
              "    </tr>\n",
              "  </thead>\n",
              "  <tbody>\n",
              "    <tr>\n",
              "      <th>58</th>\n",
              "      <td>Pantai Ngandong</td>\n",
              "      <td>4.5</td>\n",
              "      <td>3151</td>\n",
              "      <td>Pantai</td>\n",
              "      <td>10000.0</td>\n",
              "      <td>10000.0</td>\n",
              "      <td>-8.146423</td>\n",
              "      <td>110.606141</td>\n",
              "      <td>Pantai ini memiliki garis pantai yang panjang ...</td>\n",
              "    </tr>\n",
              "    <tr>\n",
              "      <th>96</th>\n",
              "      <td>Pantai Ngrumput</td>\n",
              "      <td>4.6</td>\n",
              "      <td>1437</td>\n",
              "      <td>Pantai</td>\n",
              "      <td>10000.0</td>\n",
              "      <td>10000.0</td>\n",
              "      <td>-8.140383</td>\n",
              "      <td>110.583124</td>\n",
              "      <td>Pantai Ngrumput memang kalah pamor dengan Para...</td>\n",
              "    </tr>\n",
              "    <tr>\n",
              "      <th>52</th>\n",
              "      <td>Pantai Pok Tunggal</td>\n",
              "      <td>4.5</td>\n",
              "      <td>3467</td>\n",
              "      <td>Pantai</td>\n",
              "      <td>10000.0</td>\n",
              "      <td>10000.0</td>\n",
              "      <td>-8.155447</td>\n",
              "      <td>110.621758</td>\n",
              "      <td>Pantai Pok Tunggal adalah salah satu pantai po...</td>\n",
              "    </tr>\n",
              "    <tr>\n",
              "      <th>82</th>\n",
              "      <td>Pantai Ngrenehan</td>\n",
              "      <td>4.4</td>\n",
              "      <td>1876</td>\n",
              "      <td>Pantai</td>\n",
              "      <td>5000.0</td>\n",
              "      <td>5000.0</td>\n",
              "      <td>-8.121148</td>\n",
              "      <td>110.514234</td>\n",
              "      <td>Pantai Ngrenehan merupakan pantai nelayan. Ter...</td>\n",
              "    </tr>\n",
              "    <tr>\n",
              "      <th>64</th>\n",
              "      <td>Pantai Timang</td>\n",
              "      <td>4.5</td>\n",
              "      <td>2656</td>\n",
              "      <td>Pantai</td>\n",
              "      <td>5000.0</td>\n",
              "      <td>5000.0</td>\n",
              "      <td>-8.175927</td>\n",
              "      <td>110.662420</td>\n",
              "      <td>Begitu memasuki wilayah pantai, pengunjung aka...</td>\n",
              "    </tr>\n",
              "    <tr>\n",
              "      <th>109</th>\n",
              "      <td>Pantai Nglolang</td>\n",
              "      <td>4.3</td>\n",
              "      <td>1123</td>\n",
              "      <td>Pantai</td>\n",
              "      <td>10000.0</td>\n",
              "      <td>10000.0</td>\n",
              "      <td>-8.136005</td>\n",
              "      <td>110.562855</td>\n",
              "      <td>Pantai ini sangat indah dengan pasir putih dan...</td>\n",
              "    </tr>\n",
              "    <tr>\n",
              "      <th>135</th>\n",
              "      <td>Bukit Pengilon</td>\n",
              "      <td>4.6</td>\n",
              "      <td>439</td>\n",
              "      <td>Alam</td>\n",
              "      <td>5000.0</td>\n",
              "      <td>5000.0</td>\n",
              "      <td>-8.185459</td>\n",
              "      <td>110.691722</td>\n",
              "      <td>Nama bukit Pengilon berasal dari bahasa Jawa y...</td>\n",
              "    </tr>\n",
              "    <tr>\n",
              "      <th>97</th>\n",
              "      <td>Pantai Ngedan</td>\n",
              "      <td>4.4</td>\n",
              "      <td>1382</td>\n",
              "      <td>Pantai</td>\n",
              "      <td>5000.0</td>\n",
              "      <td>5000.0</td>\n",
              "      <td>-8.116342</td>\n",
              "      <td>110.496336</td>\n",
              "      <td>Pantai Ngeden atau Ngedan yang terletak di Des...</td>\n",
              "    </tr>\n",
              "    <tr>\n",
              "      <th>105</th>\n",
              "      <td>Bukit Teletubbies</td>\n",
              "      <td>4.1</td>\n",
              "      <td>1173</td>\n",
              "      <td>Alam</td>\n",
              "      <td>2000.0</td>\n",
              "      <td>2000.0</td>\n",
              "      <td>-7.818127</td>\n",
              "      <td>110.511764</td>\n",
              "      <td>Wisata satu ini merupakan wisata yang lokasiny...</td>\n",
              "    </tr>\n",
              "    <tr>\n",
              "      <th>53</th>\n",
              "      <td>Pantai Ngobaran</td>\n",
              "      <td>4.5</td>\n",
              "      <td>3288</td>\n",
              "      <td>Pantai, Budaya dan Sejarah</td>\n",
              "      <td>5000.0</td>\n",
              "      <td>5000.0</td>\n",
              "      <td>-8.119133</td>\n",
              "      <td>110.505041</td>\n",
              "      <td>Keunikan yang menjadi ciri khas Pantai Ngobara...</td>\n",
              "    </tr>\n",
              "  </tbody>\n",
              "</table>\n",
              "</div>"
            ],
            "text/plain": [
              "                     nama  ...                                        description\n",
              "index                      ...                                                   \n",
              "58        Pantai Ngandong  ...  Pantai ini memiliki garis pantai yang panjang ...\n",
              "96        Pantai Ngrumput  ...  Pantai Ngrumput memang kalah pamor dengan Para...\n",
              "52     Pantai Pok Tunggal  ...  Pantai Pok Tunggal adalah salah satu pantai po...\n",
              "82       Pantai Ngrenehan  ...  Pantai Ngrenehan merupakan pantai nelayan. Ter...\n",
              "64          Pantai Timang  ...  Begitu memasuki wilayah pantai, pengunjung aka...\n",
              "109       Pantai Nglolang  ...  Pantai ini sangat indah dengan pasir putih dan...\n",
              "135        Bukit Pengilon  ...  Nama bukit Pengilon berasal dari bahasa Jawa y...\n",
              "97          Pantai Ngedan  ...  Pantai Ngeden atau Ngedan yang terletak di Des...\n",
              "105     Bukit Teletubbies  ...  Wisata satu ini merupakan wisata yang lokasiny...\n",
              "53        Pantai Ngobaran  ...  Keunikan yang menjadi ciri khas Pantai Ngobara...\n",
              "\n",
              "[10 rows x 9 columns]"
            ]
          },
          "metadata": {
            "tags": []
          },
          "execution_count": 11
        }
      ]
    },
    {
      "cell_type": "code",
      "metadata": {
        "colab": {
          "base_uri": "https://localhost:8080/",
          "height": 458
        },
        "id": "gaDw5QqpZ898",
        "outputId": "4d1bc19d-1102-4f2d-af27-bf0cab4b1af6"
      },
      "source": [
        "conrecsys.recommend(4) # Keraton Jogja"
      ],
      "execution_count": 12,
      "outputs": [
        {
          "output_type": "execute_result",
          "data": {
            "text/html": [
              "<div>\n",
              "<style scoped>\n",
              "    .dataframe tbody tr th:only-of-type {\n",
              "        vertical-align: middle;\n",
              "    }\n",
              "\n",
              "    .dataframe tbody tr th {\n",
              "        vertical-align: top;\n",
              "    }\n",
              "\n",
              "    .dataframe thead th {\n",
              "        text-align: right;\n",
              "    }\n",
              "</style>\n",
              "<table border=\"1\" class=\"dataframe\">\n",
              "  <thead>\n",
              "    <tr style=\"text-align: right;\">\n",
              "      <th></th>\n",
              "      <th>nama</th>\n",
              "      <th>vote_average</th>\n",
              "      <th>vote_count</th>\n",
              "      <th>type</th>\n",
              "      <th>htm_weekday</th>\n",
              "      <th>htm_weekend</th>\n",
              "      <th>latitude</th>\n",
              "      <th>longitude</th>\n",
              "      <th>description</th>\n",
              "    </tr>\n",
              "    <tr>\n",
              "      <th>index</th>\n",
              "      <th></th>\n",
              "      <th></th>\n",
              "      <th></th>\n",
              "      <th></th>\n",
              "      <th></th>\n",
              "      <th></th>\n",
              "      <th></th>\n",
              "      <th></th>\n",
              "      <th></th>\n",
              "    </tr>\n",
              "  </thead>\n",
              "  <tbody>\n",
              "    <tr>\n",
              "      <th>86</th>\n",
              "      <td>Puncak Kebun Buah Mangunan</td>\n",
              "      <td>4.6</td>\n",
              "      <td>1773</td>\n",
              "      <td>Agrowisata</td>\n",
              "      <td>8000.0</td>\n",
              "      <td>8000.0</td>\n",
              "      <td>-7.941372</td>\n",
              "      <td>110.424734</td>\n",
              "      <td>Objek wisata ini menawarkan keindahan berupa p...</td>\n",
              "    </tr>\n",
              "    <tr>\n",
              "      <th>15</th>\n",
              "      <td>Pantai Goa Cemara</td>\n",
              "      <td>4.3</td>\n",
              "      <td>12755</td>\n",
              "      <td>Pantai</td>\n",
              "      <td>4000.0</td>\n",
              "      <td>4000.0</td>\n",
              "      <td>-7.999423</td>\n",
              "      <td>110.248963</td>\n",
              "      <td>Adalah Kawasan Wisata Terpadu, satu pintu deng...</td>\n",
              "    </tr>\n",
              "    <tr>\n",
              "      <th>136</th>\n",
              "      <td>Taman Tempuran Cikal</td>\n",
              "      <td>4.4</td>\n",
              "      <td>294</td>\n",
              "      <td>Alam, Wisata Air</td>\n",
              "      <td>10000.0</td>\n",
              "      <td>NaN</td>\n",
              "      <td>-7.840562</td>\n",
              "      <td>110.449455</td>\n",
              "      <td>Taman Tempuran Cikal terletak di kecamatan Piy...</td>\n",
              "    </tr>\n",
              "    <tr>\n",
              "      <th>84</th>\n",
              "      <td>Affandi Museum</td>\n",
              "      <td>4.6</td>\n",
              "      <td>1848</td>\n",
              "      <td>Budaya dan Sejarah, Museum</td>\n",
              "      <td>30000.0</td>\n",
              "      <td>30000.0</td>\n",
              "      <td>-7.782713</td>\n",
              "      <td>110.396397</td>\n",
              "      <td>Museum Affandi merupakan salah satu museum sen...</td>\n",
              "    </tr>\n",
              "    <tr>\n",
              "      <th>88</th>\n",
              "      <td>Museum Sonobudoyo Unit I</td>\n",
              "      <td>4.6</td>\n",
              "      <td>1711</td>\n",
              "      <td>Budaya dan Sejarah, Museum</td>\n",
              "      <td>3000.0</td>\n",
              "      <td>3000.0</td>\n",
              "      <td>-7.802450</td>\n",
              "      <td>110.363955</td>\n",
              "      <td>useum Sonobudoyo unit pertama yang ada di deka...</td>\n",
              "    </tr>\n",
              "    <tr>\n",
              "      <th>85</th>\n",
              "      <td>Museum Monumen Pangeran Diponegoro</td>\n",
              "      <td>4.4</td>\n",
              "      <td>1778</td>\n",
              "      <td>Budaya dan Sejarah, Museum</td>\n",
              "      <td>NaN</td>\n",
              "      <td>NaN</td>\n",
              "      <td>-7.786589</td>\n",
              "      <td>110.351447</td>\n",
              "      <td>Museum Monumen Pangeran Diponegoro adalah muse...</td>\n",
              "    </tr>\n",
              "    <tr>\n",
              "      <th>65</th>\n",
              "      <td>Museum HM Soeharto</td>\n",
              "      <td>4.4</td>\n",
              "      <td>2628</td>\n",
              "      <td>Museum, Budaya dan Sejarah</td>\n",
              "      <td>NaN</td>\n",
              "      <td>NaN</td>\n",
              "      <td>-7.791318</td>\n",
              "      <td>110.280528</td>\n",
              "      <td>Museum Soeharto adalah adalah bangunan berBuda...</td>\n",
              "    </tr>\n",
              "    <tr>\n",
              "      <th>90</th>\n",
              "      <td>Kawasan Pantai Baron</td>\n",
              "      <td>4.4</td>\n",
              "      <td>1698</td>\n",
              "      <td>Alam</td>\n",
              "      <td>10000.0</td>\n",
              "      <td>10000.0</td>\n",
              "      <td>-8.128825</td>\n",
              "      <td>110.548776</td>\n",
              "      <td>Objek wisata Pantai Baron merupakan pantai yan...</td>\n",
              "    </tr>\n",
              "    <tr>\n",
              "      <th>67</th>\n",
              "      <td>Grand Puri Waterpark</td>\n",
              "      <td>4.2</td>\n",
              "      <td>2440</td>\n",
              "      <td>Wisata Air</td>\n",
              "      <td>35000.0</td>\n",
              "      <td>35000.0</td>\n",
              "      <td>-7.877766</td>\n",
              "      <td>110.352078</td>\n",
              "      <td>Grand Puri Waterpark Yogya berlokasi di daerah...</td>\n",
              "    </tr>\n",
              "    <tr>\n",
              "      <th>9</th>\n",
              "      <td>The Lost World Castle</td>\n",
              "      <td>4.3</td>\n",
              "      <td>16110</td>\n",
              "      <td>Buatan, Alam</td>\n",
              "      <td>30000.0</td>\n",
              "      <td>30000.0</td>\n",
              "      <td>-7.604165</td>\n",
              "      <td>110.451004</td>\n",
              "      <td>Di dalam The Lost World Casle, pengunjung disu...</td>\n",
              "    </tr>\n",
              "  </tbody>\n",
              "</table>\n",
              "</div>"
            ],
            "text/plain": [
              "                                     nama  ...                                        description\n",
              "index                                      ...                                                   \n",
              "86             Puncak Kebun Buah Mangunan  ...  Objek wisata ini menawarkan keindahan berupa p...\n",
              "15                      Pantai Goa Cemara  ...  Adalah Kawasan Wisata Terpadu, satu pintu deng...\n",
              "136                  Taman Tempuran Cikal  ...  Taman Tempuran Cikal terletak di kecamatan Piy...\n",
              "84                         Affandi Museum  ...  Museum Affandi merupakan salah satu museum sen...\n",
              "88               Museum Sonobudoyo Unit I  ...  useum Sonobudoyo unit pertama yang ada di deka...\n",
              "85     Museum Monumen Pangeran Diponegoro  ...  Museum Monumen Pangeran Diponegoro adalah muse...\n",
              "65                     Museum HM Soeharto  ...  Museum Soeharto adalah adalah bangunan berBuda...\n",
              "90                   Kawasan Pantai Baron  ...  Objek wisata Pantai Baron merupakan pantai yan...\n",
              "67                   Grand Puri Waterpark  ...  Grand Puri Waterpark Yogya berlokasi di daerah...\n",
              "9                   The Lost World Castle  ...  Di dalam The Lost World Casle, pengunjung disu...\n",
              "\n",
              "[10 rows x 9 columns]"
            ]
          },
          "metadata": {
            "tags": []
          },
          "execution_count": 12
        }
      ]
    },
    {
      "cell_type": "markdown",
      "metadata": {
        "id": "wCM3y8dQegGT"
      },
      "source": [
        "# Collaborative Filtering"
      ]
    },
    {
      "cell_type": "code",
      "metadata": {
        "colab": {
          "base_uri": "https://localhost:8080/"
        },
        "id": "IndJUwA8GFeP",
        "outputId": "61a452ac-477b-43eb-a6fb-f90b976199d3"
      },
      "source": [
        "!pip install surprise"
      ],
      "execution_count": null,
      "outputs": [
        {
          "output_type": "stream",
          "text": [
            "Collecting surprise\n",
            "  Downloading https://files.pythonhosted.org/packages/61/de/e5cba8682201fcf9c3719a6fdda95693468ed061945493dea2dd37c5618b/surprise-0.1-py2.py3-none-any.whl\n",
            "Collecting scikit-surprise\n",
            "\u001b[?25l  Downloading https://files.pythonhosted.org/packages/97/37/5d334adaf5ddd65da99fc65f6507e0e4599d092ba048f4302fe8775619e8/scikit-surprise-1.1.1.tar.gz (11.8MB)\n",
            "\u001b[K     |████████████████████████████████| 11.8MB 217kB/s \n",
            "\u001b[?25hRequirement already satisfied: joblib>=0.11 in /usr/local/lib/python3.7/dist-packages (from scikit-surprise->surprise) (1.0.1)\n",
            "Requirement already satisfied: numpy>=1.11.2 in /usr/local/lib/python3.7/dist-packages (from scikit-surprise->surprise) (1.19.5)\n",
            "Requirement already satisfied: scipy>=1.0.0 in /usr/local/lib/python3.7/dist-packages (from scikit-surprise->surprise) (1.4.1)\n",
            "Requirement already satisfied: six>=1.10.0 in /usr/local/lib/python3.7/dist-packages (from scikit-surprise->surprise) (1.15.0)\n",
            "Building wheels for collected packages: scikit-surprise\n",
            "  Building wheel for scikit-surprise (setup.py) ... \u001b[?25l\u001b[?25hdone\n",
            "  Created wheel for scikit-surprise: filename=scikit_surprise-1.1.1-cp37-cp37m-linux_x86_64.whl size=1617619 sha256=0b240a9984d5ae53df2c1678af8b8f1fb65c9370fb8bb00c939a83d1870c2ba3\n",
            "  Stored in directory: /root/.cache/pip/wheels/78/9c/3d/41b419c9d2aff5b6e2b4c0fc8d25c538202834058f9ed110d0\n",
            "Successfully built scikit-surprise\n",
            "Installing collected packages: scikit-surprise, surprise\n",
            "Successfully installed scikit-surprise-1.1.1 surprise-0.1\n"
          ],
          "name": "stdout"
        }
      ]
    },
    {
      "cell_type": "code",
      "metadata": {
        "id": "pFXGCUcHFdli"
      },
      "source": [
        "from surprise import Reader, Dataset, SVD, NMF, SVDpp\n",
        "from surprise.model_selection import cross_validate\n"
      ],
      "execution_count": null,
      "outputs": []
    },
    {
      "cell_type": "code",
      "metadata": {
        "colab": {
          "base_uri": "https://localhost:8080/",
          "height": 204
        },
        "id": "8DXKMbOLCAgW",
        "outputId": "59d4fc8d-94b6-4c52-c8a0-b3b09db0aff7"
      },
      "source": [
        "dest_rating = pd.merge(rating, destination, on='index')\n",
        "cols = ['index', 'vote_average', 'vote_count', 'type', 'htm_weekday', 'htm_weekend', 'latitude', 'longitude', 'description']\n",
        "dest_rating.drop(cols, axis=1, inplace=True)\n",
        "# dest_rating.sort_values(\"user_id\", inplace=True)\n",
        "dest_rating = dest_rating[['user_id', 'nama', 'ratings']]\n",
        "dest_rating.tail()"
      ],
      "execution_count": null,
      "outputs": [
        {
          "output_type": "execute_result",
          "data": {
            "text/html": [
              "<div>\n",
              "<style scoped>\n",
              "    .dataframe tbody tr th:only-of-type {\n",
              "        vertical-align: middle;\n",
              "    }\n",
              "\n",
              "    .dataframe tbody tr th {\n",
              "        vertical-align: top;\n",
              "    }\n",
              "\n",
              "    .dataframe thead th {\n",
              "        text-align: right;\n",
              "    }\n",
              "</style>\n",
              "<table border=\"1\" class=\"dataframe\">\n",
              "  <thead>\n",
              "    <tr style=\"text-align: right;\">\n",
              "      <th></th>\n",
              "      <th>user_id</th>\n",
              "      <th>nama</th>\n",
              "      <th>ratings</th>\n",
              "    </tr>\n",
              "  </thead>\n",
              "  <tbody>\n",
              "    <tr>\n",
              "      <th>15024</th>\n",
              "      <td>952</td>\n",
              "      <td>Taman Bunga Amarilis</td>\n",
              "      <td>5</td>\n",
              "    </tr>\n",
              "    <tr>\n",
              "      <th>15025</th>\n",
              "      <td>973</td>\n",
              "      <td>Taman Bunga Amarilis</td>\n",
              "      <td>4</td>\n",
              "    </tr>\n",
              "    <tr>\n",
              "      <th>15026</th>\n",
              "      <td>974</td>\n",
              "      <td>Taman Bunga Amarilis</td>\n",
              "      <td>3</td>\n",
              "    </tr>\n",
              "    <tr>\n",
              "      <th>15027</th>\n",
              "      <td>989</td>\n",
              "      <td>Taman Bunga Amarilis</td>\n",
              "      <td>5</td>\n",
              "    </tr>\n",
              "    <tr>\n",
              "      <th>15028</th>\n",
              "      <td>990</td>\n",
              "      <td>Taman Bunga Amarilis</td>\n",
              "      <td>1</td>\n",
              "    </tr>\n",
              "  </tbody>\n",
              "</table>\n",
              "</div>"
            ],
            "text/plain": [
              "       user_id                  nama  ratings\n",
              "15024      952  Taman Bunga Amarilis        5\n",
              "15025      973  Taman Bunga Amarilis        4\n",
              "15026      974  Taman Bunga Amarilis        3\n",
              "15027      989  Taman Bunga Amarilis        5\n",
              "15028      990  Taman Bunga Amarilis        1"
            ]
          },
          "metadata": {
            "tags": []
          },
          "execution_count": 79
        }
      ]
    },
    {
      "cell_type": "code",
      "metadata": {
        "colab": {
          "base_uri": "https://localhost:8080/"
        },
        "id": "LlYEV6rTJLsP",
        "outputId": "f646338b-f4e0-4905-83a7-1a8ca8c256f0"
      },
      "source": [
        "dest_rating['user_id'].nunique()"
      ],
      "execution_count": null,
      "outputs": [
        {
          "output_type": "execute_result",
          "data": {
            "text/plain": [
              "1000"
            ]
          },
          "metadata": {
            "tags": []
          },
          "execution_count": 38
        }
      ]
    },
    {
      "cell_type": "code",
      "metadata": {
        "id": "cOKjBKVbF9aj"
      },
      "source": [
        "data = Dataset.load_from_df(dest_rating, Reader())\n",
        "trainset = data.build_full_trainset()"
      ],
      "execution_count": null,
      "outputs": []
    },
    {
      "cell_type": "markdown",
      "metadata": {
        "id": "XPhbaPjUscBd"
      },
      "source": [
        "### Choose Best Algorithm"
      ]
    },
    {
      "cell_type": "code",
      "metadata": {
        "colab": {
          "base_uri": "https://localhost:8080/"
        },
        "id": "11ysBJKrreUS",
        "outputId": "c07fb142-9f48-4fe2-ee7c-71cb2070a866"
      },
      "source": [
        "# Use the famous SVD algorithm.\n",
        "algo = SVD()\n",
        "\n",
        "# Run 5-fold cross-validation and print results.\n",
        "cross_validate(algo, data, measures=['RMSE', 'MAE'], cv=3, verbose=True)"
      ],
      "execution_count": null,
      "outputs": [
        {
          "output_type": "stream",
          "text": [
            "Evaluating RMSE, MAE of algorithm SVD on 3 split(s).\n",
            "\n",
            "                  Fold 1  Fold 2  Fold 3  Mean    Std     \n",
            "RMSE (testset)    1.4439  1.4611  1.4597  1.4549  0.0078  \n",
            "MAE (testset)     1.2441  1.2613  1.2584  1.2546  0.0075  \n",
            "Fit time          0.59    0.58    0.62    0.60    0.02    \n",
            "Test time         0.04    0.04    0.04    0.04    0.00    \n"
          ],
          "name": "stdout"
        },
        {
          "output_type": "execute_result",
          "data": {
            "text/plain": [
              "{'fit_time': (0.5886263847351074, 0.5759768486022949, 0.6208693981170654),\n",
              " 'test_mae': array([1.24406439, 1.2613218 , 1.25844999]),\n",
              " 'test_rmse': array([1.44387507, 1.46112684, 1.45969991]),\n",
              " 'test_time': (0.035526275634765625,\n",
              "  0.038804054260253906,\n",
              "  0.037689924240112305)}"
            ]
          },
          "metadata": {
            "tags": []
          },
          "execution_count": 108
        }
      ]
    },
    {
      "cell_type": "markdown",
      "metadata": {
        "id": "jV66HYXcsXzB"
      },
      "source": [
        "### Training RecSys"
      ]
    },
    {
      "cell_type": "code",
      "metadata": {
        "colab": {
          "base_uri": "https://localhost:8080/"
        },
        "id": "jL6qxqk9Givv",
        "outputId": "e2a16183-8a60-4663-9e1b-ba06778dce79"
      },
      "source": [
        "model = SVD()\n",
        "model.fit(trainset)"
      ],
      "execution_count": null,
      "outputs": [
        {
          "output_type": "execute_result",
          "data": {
            "text/plain": [
              "<surprise.prediction_algorithms.matrix_factorization.SVD at 0x7fad97c15d50>"
            ]
          },
          "metadata": {
            "tags": []
          },
          "execution_count": 109
        }
      ]
    },
    {
      "cell_type": "code",
      "metadata": {
        "colab": {
          "base_uri": "https://localhost:8080/"
        },
        "id": "8TDGR4AVHG3S",
        "outputId": "bc5c5fcc-e999-4112-d420-0044caf60bf3"
      },
      "source": [
        "model.predict(974, \"Taman Bunga Amarilis\")"
      ],
      "execution_count": null,
      "outputs": [
        {
          "output_type": "execute_result",
          "data": {
            "text/plain": [
              "Prediction(uid=974, iid='Taman Bunga Amarilis', r_ui=None, est=2.871180641548746, details={'was_impossible': False})"
            ]
          },
          "metadata": {
            "tags": []
          },
          "execution_count": 111
        }
      ]
    },
    {
      "cell_type": "markdown",
      "metadata": {
        "id": "qxB4B1PUKIr3"
      },
      "source": [
        "## Prediction of Tourist Destinations that have not been visited"
      ]
    },
    {
      "cell_type": "code",
      "metadata": {
        "id": "xsBGIkxHWLTR"
      },
      "source": [
        "user_id = 1"
      ],
      "execution_count": null,
      "outputs": []
    },
    {
      "cell_type": "markdown",
      "metadata": {
        "id": "9YUKdDo2WOpR"
      },
      "source": [
        "### All Tourist Destination"
      ]
    },
    {
      "cell_type": "code",
      "metadata": {
        "colab": {
          "base_uri": "https://localhost:8080/"
        },
        "id": "P20upyq3WWIL",
        "outputId": "ebedfb7d-9846-4d1f-8183-9ea2a311918f"
      },
      "source": [
        "all_destination = dest_rating['nama'].unique()\n",
        "all_destination"
      ],
      "execution_count": null,
      "outputs": [
        {
          "output_type": "execute_result",
          "data": {
            "text/plain": [
              "array(['De Mata Trick Eye Museum', 'Agro Tourism Bhumi Merapi',\n",
              "       'Kids Fun Galleria Mall', 'Gembira Loka Zoo', 'Situs Warungboto',\n",
              "       'Air Terjun Kedung Pedut', 'Candi Ijo', 'Balong Waterpark',\n",
              "       'Wisata Telaga Potorono', 'Pantai Parangkusumo',\n",
              "       'Grand Puri Waterpark', 'Desa Wisata Pulesari',\n",
              "       'Taman Tempuran Cikal', 'Candi Sari', 'Tugu', 'Pantai Kesirat',\n",
              "       'Camera House Borobudur', 'Pantai Parangtritis',\n",
              "       'Wisata Alam Watu Amben', 'Candi Abang', 'Kids Fun Park (Pusat)',\n",
              "       'Pantai Ngrumput', 'Pantai Timang',\n",
              "       'Pantai Cemara Sewu Bantul Yogyakarta', 'Candi Sojiwan',\n",
              "       'Tegaldowo Puspa Gading Park', 'Mangrove Jembatan Api-Api (MJAA)',\n",
              "       'Lava Tour Merapi', 'Bukit Paralayang Watugupit', 'Candi Kalasan',\n",
              "       'Pantai Ngandong', 'Tirtonirmolo Water Park Galuh',\n",
              "       'Taman Lampion (Taman Pelangi)',\n",
              "       'The World Landmarks - Merapi Park Yogyakarta', 'Candi Sambisari',\n",
              "       'Tebing Breksi', 'Candi Banyunibo', 'Museum Sonobudoyo Unit I',\n",
              "       'Jogja National Museum', 'Pesona Pengklik Pantai Samas',\n",
              "       'Seribu Batu Songgo Langit', 'Pantai Nglolang', 'Pantai Ngrenehan',\n",
              "       'Kali Talang', 'Pantai Kuwaru', 'Museum Batik Keraton Yogyakarta',\n",
              "       'Jogja Bay', 'Pintoe Langit Dahromo', 'Ramadanu flower garden',\n",
              "       'Desa Wisata Gamplong', 'Kawasan Pantai Baron', 'Pantai Ngobaran',\n",
              "       'Masjid Gedhe Kauman', 'Bukit Pengilon', 'Gunung Ireng Srumbung',\n",
              "       'Wisata Air Wanatirta Kencana', 'Museum Benteng Vredeburg',\n",
              "       'Malioboro', 'Taman Pelangi Jogja', 'Museum Perjuangan',\n",
              "       'Tebing Gunung Gajah', 'Heha Sky View', 'Kebun Teh Nglinggo',\n",
              "       'Pantai Siung', 'Taman Pintar Yogyakarta', 'Candi Prambanan',\n",
              "       'Bundaran UGM', 'Wisata Kalibiru',\n",
              "       'The Palace of Yogyakarta (Keraton Yogyakarta)',\n",
              "       'Museum HM Soeharto', 'Pantai Slili', 'Pantai Goa Cemara',\n",
              "       'Monumen Yogya Kembali', 'Desa Wisata Pentingsari',\n",
              "       'Puncak Kebun Buah Mangunan', 'XT Square', 'Embung Tambakboyo',\n",
              "       'Wana Tirta Mangrove Forests',\n",
              "       'Museum Factory Dan Kedai Chocolate Monggo', 'Blue Lagoon Jogja',\n",
              "       'Ratu Boko', 'Bukit Lintang Sewu', 'Bukit Teletubbies',\n",
              "       'Hutan Pinus Mangunan Dlingo', 'Pasar Kembang', 'Pantai Nglambor',\n",
              "       'Candi Plaosan', 'Lava Merapi and Alien Stone', 'Puncak Suroloyo',\n",
              "       'Pantai Wediombo', 'Museum Monumen Pangeran Diponegoro',\n",
              "       'Embung Nglanggeran', 'Watu Goyang', 'Selopamioro Adventure Park',\n",
              "       'Omah Petroek', 'Bukit Wisata Pulepayung', 'Pantai Sepanjang',\n",
              "       'Affandi Museum', 'Taman Wisata Kaliurang', 'Kebun Buah Mangunan',\n",
              "       'Grojogan Watu Purbo Bangunrejo', 'Goa Kiskendo', 'Goa Seplawan',\n",
              "       'Museum Wayang Kekayon', 'Pemecah Ombak Pantai Glagah',\n",
              "       'Pantai Glagah', 'Geoforest Watu Payung Turunan',\n",
              "       'Taman Sungai Mudal', 'Taman Sari', 'Candi Sewu',\n",
              "       'Pantai Pok Tunggal', 'Goa Jomblang', 'Pantai Watulawang',\n",
              "       'Central Museum of the Air Force Dirgantara Mandala',\n",
              "       'Kawasan Ekowisata Gunung Api Purba Nglanggeran',\n",
              "       'Bukit Panguk Kediwung', 'Pantai Ngetun', 'Fort Vredeburg Museum',\n",
              "       'Ngobaran Beach', 'Goa Selarong',\n",
              "       'CitraGrand Mutiara Waterpark Yogyakarta', 'Stonehenge Merapi',\n",
              "       'Pantai Drini', 'Pantai Ngedan', 'Jurang Tembelan Kanigoro',\n",
              "       'Galaxy Waterpark', 'The Lost World Castle', 'Kaliadem',\n",
              "       'Restoe Boemi Kreo', 'Sindu Kusuma Edupark (SKE)', 'Depok Beach',\n",
              "       'Museum Sandi', 'Candi Borobudur', 'Waduk Sermo',\n",
              "       'Pantai Indrayanti', 'Jogja Exotarium',\n",
              "       'Gunung Api Purba Nglanggeran', 'Bukit Klangon',\n",
              "       'Bendungan Kamijoro', 'Candi ASU Klaten', 'Sumur Gumuling',\n",
              "       'Taman Bunga Amarilis'], dtype=object)"
            ]
          },
          "metadata": {
            "tags": []
          },
          "execution_count": 54
        }
      ]
    },
    {
      "cell_type": "markdown",
      "metadata": {
        "id": "XeXWN2LZWdz3"
      },
      "source": [
        "### Has been Visited by User"
      ]
    },
    {
      "cell_type": "code",
      "metadata": {
        "colab": {
          "base_uri": "https://localhost:8080/"
        },
        "id": "SZElFrAlWlnl",
        "outputId": "5af5155f-5101-435f-ecec-5197a10634b2"
      },
      "source": [
        "visited = dest_rating[dest_rating.user_id == 1].nama\n",
        "visited.head()"
      ],
      "execution_count": null,
      "outputs": [
        {
          "output_type": "execute_result",
          "data": {
            "text/plain": [
              "0       De Mata Trick Eye Museum\n",
              "91     Agro Tourism Bhumi Merapi\n",
              "92     Agro Tourism Bhumi Merapi\n",
              "200       Kids Fun Galleria Mall\n",
              "304             Gembira Loka Zoo\n",
              "Name: nama, dtype: object"
            ]
          },
          "metadata": {
            "tags": []
          },
          "execution_count": 65
        }
      ]
    },
    {
      "cell_type": "code",
      "metadata": {
        "colab": {
          "base_uri": "https://localhost:8080/"
        },
        "id": "dZZq5mh8aC8s",
        "outputId": "b13705e0-5cd9-4f34-de2f-231d5cee5883"
      },
      "source": [
        "visited"
      ],
      "execution_count": null,
      "outputs": [
        {
          "output_type": "execute_result",
          "data": {
            "text/plain": [
              "0        De Mata Trick Eye Museum\n",
              "91      Agro Tourism Bhumi Merapi\n",
              "92      Agro Tourism Bhumi Merapi\n",
              "200        Kids Fun Galleria Mall\n",
              "304              Gembira Loka Zoo\n",
              "421              Situs Warungboto\n",
              "548       Air Terjun Kedung Pedut\n",
              "648                     Candi Ijo\n",
              "752              Balong Waterpark\n",
              "845        Wisata Telaga Potorono\n",
              "942           Pantai Parangkusumo\n",
              "943           Pantai Parangkusumo\n",
              "1055         Grand Puri Waterpark\n",
              "1160         Desa Wisata Pulesari\n",
              "1264         Taman Tempuran Cikal\n",
              "1371                   Candi Sari\n",
              "Name: nama, dtype: object"
            ]
          },
          "metadata": {
            "tags": []
          },
          "execution_count": 62
        }
      ]
    },
    {
      "cell_type": "markdown",
      "metadata": {
        "id": "VSxwz-A4Y5Wt"
      },
      "source": [
        "### Never been Visited by User"
      ]
    },
    {
      "cell_type": "code",
      "metadata": {
        "colab": {
          "base_uri": "https://localhost:8080/"
        },
        "id": "rZFarBgEZMIR",
        "outputId": "9274d31c-6c0a-4aba-cb30-ed044644c089"
      },
      "source": [
        "not_visited = [dest for dest in all_destination if dest not in visited.values]\n",
        "not_visited"
      ],
      "execution_count": null,
      "outputs": [
        {
          "output_type": "execute_result",
          "data": {
            "text/plain": [
              "['Tugu',\n",
              " 'Pantai Kesirat',\n",
              " 'Camera House Borobudur',\n",
              " 'Pantai Parangtritis',\n",
              " 'Wisata Alam Watu Amben',\n",
              " 'Candi Abang',\n",
              " 'Kids Fun Park (Pusat)',\n",
              " 'Pantai Ngrumput',\n",
              " 'Pantai Timang',\n",
              " 'Pantai Cemara Sewu Bantul Yogyakarta',\n",
              " 'Candi Sojiwan',\n",
              " 'Tegaldowo Puspa Gading Park',\n",
              " 'Mangrove Jembatan Api-Api (MJAA)',\n",
              " 'Lava Tour Merapi',\n",
              " 'Bukit Paralayang Watugupit',\n",
              " 'Candi Kalasan',\n",
              " 'Pantai Ngandong',\n",
              " 'Tirtonirmolo Water Park Galuh',\n",
              " 'Taman Lampion (Taman Pelangi)',\n",
              " 'The World Landmarks - Merapi Park Yogyakarta',\n",
              " 'Candi Sambisari',\n",
              " 'Tebing Breksi',\n",
              " 'Candi Banyunibo',\n",
              " 'Museum Sonobudoyo Unit I',\n",
              " 'Jogja National Museum',\n",
              " 'Pesona Pengklik Pantai Samas',\n",
              " 'Seribu Batu Songgo Langit',\n",
              " 'Pantai Nglolang',\n",
              " 'Pantai Ngrenehan',\n",
              " 'Kali Talang',\n",
              " 'Pantai Kuwaru',\n",
              " 'Museum Batik Keraton Yogyakarta',\n",
              " 'Jogja Bay',\n",
              " 'Pintoe Langit Dahromo',\n",
              " 'Ramadanu flower garden',\n",
              " 'Desa Wisata Gamplong',\n",
              " 'Kawasan Pantai Baron',\n",
              " 'Pantai Ngobaran',\n",
              " 'Masjid Gedhe Kauman',\n",
              " 'Bukit Pengilon',\n",
              " 'Gunung Ireng Srumbung',\n",
              " 'Wisata Air Wanatirta Kencana',\n",
              " 'Museum Benteng Vredeburg',\n",
              " 'Malioboro',\n",
              " 'Taman Pelangi Jogja',\n",
              " 'Museum Perjuangan',\n",
              " 'Tebing Gunung Gajah',\n",
              " 'Heha Sky View',\n",
              " 'Kebun Teh Nglinggo',\n",
              " 'Pantai Siung',\n",
              " 'Taman Pintar Yogyakarta',\n",
              " 'Candi Prambanan',\n",
              " 'Bundaran UGM',\n",
              " 'Wisata Kalibiru',\n",
              " 'The Palace of Yogyakarta (Keraton Yogyakarta)',\n",
              " 'Museum HM Soeharto',\n",
              " 'Pantai Slili',\n",
              " 'Pantai Goa Cemara',\n",
              " 'Monumen Yogya Kembali',\n",
              " 'Desa Wisata Pentingsari',\n",
              " 'Puncak Kebun Buah Mangunan',\n",
              " 'XT Square',\n",
              " 'Embung Tambakboyo',\n",
              " 'Wana Tirta Mangrove Forests',\n",
              " 'Museum Factory Dan Kedai Chocolate Monggo',\n",
              " 'Blue Lagoon Jogja',\n",
              " 'Ratu Boko',\n",
              " 'Bukit Lintang Sewu',\n",
              " 'Bukit Teletubbies',\n",
              " 'Hutan Pinus Mangunan Dlingo',\n",
              " 'Pasar Kembang',\n",
              " 'Pantai Nglambor',\n",
              " 'Candi Plaosan',\n",
              " 'Lava Merapi and Alien Stone',\n",
              " 'Puncak Suroloyo',\n",
              " 'Pantai Wediombo',\n",
              " 'Museum Monumen Pangeran Diponegoro',\n",
              " 'Embung Nglanggeran',\n",
              " 'Watu Goyang',\n",
              " 'Selopamioro Adventure Park',\n",
              " 'Omah Petroek',\n",
              " 'Bukit Wisata Pulepayung',\n",
              " 'Pantai Sepanjang',\n",
              " 'Affandi Museum',\n",
              " 'Taman Wisata Kaliurang',\n",
              " 'Kebun Buah Mangunan',\n",
              " 'Grojogan Watu Purbo Bangunrejo',\n",
              " 'Goa Kiskendo',\n",
              " 'Goa Seplawan',\n",
              " 'Museum Wayang Kekayon',\n",
              " 'Pemecah Ombak Pantai Glagah',\n",
              " 'Pantai Glagah',\n",
              " 'Geoforest Watu Payung Turunan',\n",
              " 'Taman Sungai Mudal',\n",
              " 'Taman Sari',\n",
              " 'Candi Sewu',\n",
              " 'Pantai Pok Tunggal',\n",
              " 'Goa Jomblang',\n",
              " 'Pantai Watulawang',\n",
              " 'Central Museum of the Air Force Dirgantara Mandala',\n",
              " 'Kawasan Ekowisata Gunung Api Purba Nglanggeran',\n",
              " 'Bukit Panguk Kediwung',\n",
              " 'Pantai Ngetun',\n",
              " 'Fort Vredeburg Museum',\n",
              " 'Ngobaran Beach',\n",
              " 'Goa Selarong',\n",
              " 'CitraGrand Mutiara Waterpark Yogyakarta',\n",
              " 'Stonehenge Merapi',\n",
              " 'Pantai Drini',\n",
              " 'Pantai Ngedan',\n",
              " 'Jurang Tembelan Kanigoro',\n",
              " 'Galaxy Waterpark',\n",
              " 'The Lost World Castle',\n",
              " 'Kaliadem',\n",
              " 'Restoe Boemi Kreo',\n",
              " 'Sindu Kusuma Edupark (SKE)',\n",
              " 'Depok Beach',\n",
              " 'Museum Sandi',\n",
              " 'Candi Borobudur',\n",
              " 'Waduk Sermo',\n",
              " 'Pantai Indrayanti',\n",
              " 'Jogja Exotarium',\n",
              " 'Gunung Api Purba Nglanggeran',\n",
              " 'Bukit Klangon',\n",
              " 'Bendungan Kamijoro',\n",
              " 'Candi ASU Klaten',\n",
              " 'Sumur Gumuling',\n",
              " 'Taman Bunga Amarilis']"
            ]
          },
          "metadata": {
            "tags": []
          },
          "execution_count": 71
        }
      ]
    },
    {
      "cell_type": "markdown",
      "metadata": {
        "id": "MdHr9LvadTpd"
      },
      "source": [
        "### Rating Prediction for Destination not been Visited"
      ]
    },
    {
      "cell_type": "code",
      "metadata": {
        "colab": {
          "base_uri": "https://localhost:8080/"
        },
        "id": "Yrh0dbj9dbAc",
        "outputId": "e1a3589c-2056-4498-9bad-f8e5fd58761b"
      },
      "source": [
        "score = [model.predict(user_id, dest).est for dest in not_visited]\n",
        "score"
      ],
      "execution_count": null,
      "outputs": [
        {
          "output_type": "execute_result",
          "data": {
            "text/plain": [
              "[3.3653835500763587,\n",
              " 3.7530859245945036,\n",
              " 2.9735605235101215,\n",
              " 3.4898618807250994,\n",
              " 3.052330801712475,\n",
              " 3.3343298226934466,\n",
              " 3.231886095972976,\n",
              " 3.3283174732386627,\n",
              " 3.013997620010748,\n",
              " 3.50857022240108,\n",
              " 3.6912399316607845,\n",
              " 3.435521203021336,\n",
              " 3.477702961714437,\n",
              " 3.8503814692736325,\n",
              " 3.534654317654546,\n",
              " 3.3524874129970414,\n",
              " 3.2788378220100056,\n",
              " 3.2850269040929905,\n",
              " 3.4573978624345365,\n",
              " 3.4091576909698698,\n",
              " 3.6033925060014287,\n",
              " 3.2970183597038467,\n",
              " 3.702074775511036,\n",
              " 3.4675742918222836,\n",
              " 3.349031927359832,\n",
              " 3.8025539979084377,\n",
              " 3.0998455696071074,\n",
              " 3.915230982332654,\n",
              " 2.9570434145314497,\n",
              " 3.221736228198141,\n",
              " 3.7972312915341906,\n",
              " 3.930834619437657,\n",
              " 3.657312799852601,\n",
              " 3.2088227166066625,\n",
              " 3.0820079494706336,\n",
              " 3.4638394815524634,\n",
              " 3.4433486355193272,\n",
              " 3.3464440426739372,\n",
              " 3.4516865957633422,\n",
              " 3.3456970435219446,\n",
              " 3.1720587246378833,\n",
              " 3.4155263571328645,\n",
              " 3.2605335466336025,\n",
              " 3.7658642463206733,\n",
              " 3.429569560442352,\n",
              " 3.7105153026667415,\n",
              " 2.8622654132438132,\n",
              " 3.3246255906581297,\n",
              " 3.507248697669966,\n",
              " 3.815471643352,\n",
              " 3.415248883392537,\n",
              " 3.416653734451476,\n",
              " 3.465418641127744,\n",
              " 3.2132474158093953,\n",
              " 3.0001000331682435,\n",
              " 3.561940274909996,\n",
              " 3.1563529151595753,\n",
              " 3.359566463923965,\n",
              " 3.2672353276572195,\n",
              " 3.6256014366335223,\n",
              " 3.2920709304816045,\n",
              " 3.555649387823286,\n",
              " 3.5293388028186055,\n",
              " 3.5123179351272094,\n",
              " 3.6253328450299156,\n",
              " 3.581668412016618,\n",
              " 3.279852271779101,\n",
              " 3.5434083343779954,\n",
              " 3.289183498000768,\n",
              " 3.7328495069571237,\n",
              " 3.080426761626502,\n",
              " 3.3191636556849042,\n",
              " 2.8771351267119925,\n",
              " 3.408811585125604,\n",
              " 3.829875055088998,\n",
              " 3.414327795977967,\n",
              " 3.4806030464323454,\n",
              " 3.2348871410906535,\n",
              " 3.105266012583933,\n",
              " 3.5032991571219414,\n",
              " 2.796984996290666,\n",
              " 3.3812721620289308,\n",
              " 2.975050486862668,\n",
              " 2.969469820967827,\n",
              " 3.225856319969174,\n",
              " 3.944350308525077,\n",
              " 3.406676288245156,\n",
              " 3.90221581919539,\n",
              " 3.2344990717301196,\n",
              " 3.1584169648041476,\n",
              " 3.3806567250919186,\n",
              " 3.7268461043490793,\n",
              " 3.4337408943309957,\n",
              " 3.6204125958401177,\n",
              " 3.7455044250338227,\n",
              " 3.64394465982728,\n",
              " 3.777771282366605,\n",
              " 3.550406798825915,\n",
              " 3.7326432514192946,\n",
              " 2.967662413830792,\n",
              " 3.7036076795172037,\n",
              " 3.5788096597243952,\n",
              " 3.302843813202446,\n",
              " 3.864494725287537,\n",
              " 2.8861849348762645,\n",
              " 2.730992791549941,\n",
              " 3.6400397159287614,\n",
              " 3.3163629866774755,\n",
              " 3.3477858661772837,\n",
              " 2.8650718575280525,\n",
              " 3.5041943755770184,\n",
              " 3.3615054732469907,\n",
              " 3.205984752872324,\n",
              " 3.711262170449703,\n",
              " 3.408472510987447,\n",
              " 3.4850395906971534,\n",
              " 2.9070953328793347,\n",
              " 3.236533155962569,\n",
              " 3.4111672422114134,\n",
              " 3.478840570032086,\n",
              " 3.2954838586031294,\n",
              " 3.4184543350948764,\n",
              " 3.033145974246687,\n",
              " 3.7249356964102853,\n",
              " 4.11308687941211,\n",
              " 3.2916160458299943,\n",
              " 3.5638854304180105,\n",
              " 3.437441204203106]"
            ]
          },
          "metadata": {
            "tags": []
          },
          "execution_count": 112
        }
      ]
    },
    {
      "cell_type": "markdown",
      "metadata": {
        "id": "qJLBEg1Nd47G"
      },
      "source": [
        "## ML Engineering: Collaborative Base Filtering"
      ]
    },
    {
      "cell_type": "code",
      "metadata": {
        "id": "yI1VahNMgPZr"
      },
      "source": [
        "import numpy as np\n",
        "import pandas as pd\n",
        "from surprise import Reader, Dataset, SVD\n",
        "\n",
        "class CollabRecSys:\n",
        "    def __init__(self, data):\n",
        "        self.df = pd.read_csv(data)\n",
        "        self.all_dest = self.df['nama'].unique()\n",
        "        self.model = None\n",
        "\n",
        "    def fit(self):\n",
        "        data = Dataset.load_from_df(self.df, Reader())\n",
        "        trainset = data.build_full_trainset()\n",
        "        self.model = SVD()\n",
        "        self.model.fit(trainset)\n",
        "\n",
        "    def recommend(self, user_id, topk=10):\n",
        "        visited = self.df[self.df.user_id == user_id].nama\n",
        "        not_visited = [dest for dest in self.all_dest if dest not in visited.values]\n",
        "        score = [self.model.predict(user_id, dest).est for dest in not_visited]\n",
        "\n",
        "        result = pd.DataFrame({'Destination': not_visited, 'Rating_Prediction':score})\n",
        "        result.sort_values(\"Rating_Prediction\", ascending=False, inplace=True)\n",
        "        return result.head(topk)"
      ],
      "execution_count": 9,
      "outputs": []
    },
    {
      "cell_type": "markdown",
      "metadata": {
        "id": "Zo_Ke8VNoNXY"
      },
      "source": [
        "## Testing Collaborative Filtering"
      ]
    },
    {
      "cell_type": "code",
      "metadata": {
        "id": "NRSiPygSileu"
      },
      "source": [
        "collabrecsys = CollabRecSys('destination_rating.csv')\n",
        "collabrecsys.fit()"
      ],
      "execution_count": 10,
      "outputs": []
    },
    {
      "cell_type": "code",
      "metadata": {
        "colab": {
          "base_uri": "https://localhost:8080/",
          "height": 359
        },
        "id": "lFEfDJMJnOHS",
        "outputId": "fbe3b442-c43b-4887-f6fa-4d356c47dd3e"
      },
      "source": [
        "collabrecsys.recommend(user_id=3)"
      ],
      "execution_count": 11,
      "outputs": [
        {
          "output_type": "execute_result",
          "data": {
            "text/html": [
              "<div>\n",
              "<style scoped>\n",
              "    .dataframe tbody tr th:only-of-type {\n",
              "        vertical-align: middle;\n",
              "    }\n",
              "\n",
              "    .dataframe tbody tr th {\n",
              "        vertical-align: top;\n",
              "    }\n",
              "\n",
              "    .dataframe thead th {\n",
              "        text-align: right;\n",
              "    }\n",
              "</style>\n",
              "<table border=\"1\" class=\"dataframe\">\n",
              "  <thead>\n",
              "    <tr style=\"text-align: right;\">\n",
              "      <th></th>\n",
              "      <th>Destination</th>\n",
              "      <th>Rating_Prediction</th>\n",
              "    </tr>\n",
              "  </thead>\n",
              "  <tbody>\n",
              "    <tr>\n",
              "      <th>66</th>\n",
              "      <td>Wana Tirta Mangrove Forests</td>\n",
              "      <td>4.023427</td>\n",
              "    </tr>\n",
              "    <tr>\n",
              "      <th>28</th>\n",
              "      <td>Pesona Pengklik Pantai Samas</td>\n",
              "      <td>3.923914</td>\n",
              "    </tr>\n",
              "    <tr>\n",
              "      <th>90</th>\n",
              "      <td>Goa Kiskendo</td>\n",
              "      <td>3.889134</td>\n",
              "    </tr>\n",
              "    <tr>\n",
              "      <th>77</th>\n",
              "      <td>Puncak Suroloyo</td>\n",
              "      <td>3.888394</td>\n",
              "    </tr>\n",
              "    <tr>\n",
              "      <th>36</th>\n",
              "      <td>Pintoe Langit Dahromo</td>\n",
              "      <td>3.859439</td>\n",
              "    </tr>\n",
              "    <tr>\n",
              "      <th>30</th>\n",
              "      <td>Pantai Nglolang</td>\n",
              "      <td>3.847253</td>\n",
              "    </tr>\n",
              "    <tr>\n",
              "      <th>51</th>\n",
              "      <td>Kebun Teh Nglinggo</td>\n",
              "      <td>3.816333</td>\n",
              "    </tr>\n",
              "    <tr>\n",
              "      <th>0</th>\n",
              "      <td>De Mata Trick Eye Museum</td>\n",
              "      <td>3.787950</td>\n",
              "    </tr>\n",
              "    <tr>\n",
              "      <th>127</th>\n",
              "      <td>Bendungan Kamijoro</td>\n",
              "      <td>3.722485</td>\n",
              "    </tr>\n",
              "    <tr>\n",
              "      <th>121</th>\n",
              "      <td>Candi Borobudur</td>\n",
              "      <td>3.717757</td>\n",
              "    </tr>\n",
              "  </tbody>\n",
              "</table>\n",
              "</div>"
            ],
            "text/plain": [
              "                      Destination  Rating_Prediction\n",
              "66    Wana Tirta Mangrove Forests           4.023427\n",
              "28   Pesona Pengklik Pantai Samas           3.923914\n",
              "90                   Goa Kiskendo           3.889134\n",
              "77                Puncak Suroloyo           3.888394\n",
              "36          Pintoe Langit Dahromo           3.859439\n",
              "30                Pantai Nglolang           3.847253\n",
              "51             Kebun Teh Nglinggo           3.816333\n",
              "0        De Mata Trick Eye Museum           3.787950\n",
              "127            Bendungan Kamijoro           3.722485\n",
              "121               Candi Borobudur           3.717757"
            ]
          },
          "metadata": {
            "tags": []
          },
          "execution_count": 11
        }
      ]
    }
  ]
}